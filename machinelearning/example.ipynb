{
 "cells": [
  {
   "cell_type": "code",
   "execution_count": null,
   "id": "47aeedba",
   "metadata": {},
   "outputs": [
    {
     "name": "stdout",
     "output_type": "stream",
     "text": [
      "   House_ID  Size_sqft Bedrooms  Age_years      Price\n",
      "0         1     1000.0        2        5.0   200000.0\n",
      "1         2     1500.0        3       10.0   300000.0\n",
      "2         3        NaN        3       15.0   350000.0\n",
      "3         4     1800.0      NaN       20.0   400000.0\n",
      "4         4     1800.0        4       25.0   420000.0\n",
      "5         5     2500.0        5       30.0        NaN\n",
      "6         6     3000.0     four       35.0   600000.0\n",
      "7         7     3500.0        6        NaN   700000.0\n",
      "8         8   100000.0        7      200.0  8000000.0\n",
      "9         9     4000.0        8       45.0   900000.0\n"
     ]
    }
   ],
   "source": [
    "import pandas as pd \n",
    "import numpy as np\n",
    "import matplotlib.pyplot as plt\n",
    "import seaborn as sns \n",
    "np.random.seed(50)\n",
    "data={\"House_ID\": [1, 2, 3, 4, 4, 5, 6, 7, 8, 9],\n",
    "    \"Size_sqft\": [1000, 1500, np.nan, 1800, 1800, 2500, 3000, 3500, 100000, 4000],\n",
    "    \"Bedrooms\": [2, 3, 3, np.nan, 4, 5, \"four\", 6, 7, 8],\n",
    "    \"Age_years\": [5, 10, 15, 20, 25, 30, 35, None, 200, 45],\n",
    "    \"Price\": [200000, 300000, 350000, 400000, 420000, np.nan, 600000, 700000, 8000000, 900000]\n",
    "\n",
    "}\n",
    "df=pd.DataFrame(data)\n",
    "print(df)\n"
   ]
  },
  {
   "cell_type": "code",
   "execution_count": 3,
   "id": "2b4ff959",
   "metadata": {},
   "outputs": [
    {
     "name": "stdout",
     "output_type": "stream",
     "text": [
      "<class 'pandas.core.frame.DataFrame'>\n",
      "RangeIndex: 10 entries, 0 to 9\n",
      "Data columns (total 5 columns):\n",
      " #   Column     Non-Null Count  Dtype  \n",
      "---  ------     --------------  -----  \n",
      " 0   House_ID   10 non-null     int64  \n",
      " 1   Size_sqft  9 non-null      float64\n",
      " 2   Bedrooms   9 non-null      object \n",
      " 3   Age_years  9 non-null      float64\n",
      " 4   Price      9 non-null      float64\n",
      "dtypes: float64(3), int64(1), object(1)\n",
      "memory usage: 532.0+ bytes\n"
     ]
    }
   ],
   "source": [
    "df.info()"
   ]
  },
  {
   "cell_type": "code",
   "execution_count": 4,
   "id": "5ece5e35",
   "metadata": {},
   "outputs": [
    {
     "data": {
      "text/html": [
       "<div>\n",
       "<style scoped>\n",
       "    .dataframe tbody tr th:only-of-type {\n",
       "        vertical-align: middle;\n",
       "    }\n",
       "\n",
       "    .dataframe tbody tr th {\n",
       "        vertical-align: top;\n",
       "    }\n",
       "\n",
       "    .dataframe thead th {\n",
       "        text-align: right;\n",
       "    }\n",
       "</style>\n",
       "<table border=\"1\" class=\"dataframe\">\n",
       "  <thead>\n",
       "    <tr style=\"text-align: right;\">\n",
       "      <th></th>\n",
       "      <th>House_ID</th>\n",
       "      <th>Size_sqft</th>\n",
       "      <th>Age_years</th>\n",
       "      <th>Price</th>\n",
       "    </tr>\n",
       "  </thead>\n",
       "  <tbody>\n",
       "    <tr>\n",
       "      <th>count</th>\n",
       "      <td>10.000000</td>\n",
       "      <td>9.000000</td>\n",
       "      <td>9.000000</td>\n",
       "      <td>9.000000e+00</td>\n",
       "    </tr>\n",
       "    <tr>\n",
       "      <th>mean</th>\n",
       "      <td>4.900000</td>\n",
       "      <td>13233.333333</td>\n",
       "      <td>42.777778</td>\n",
       "      <td>1.318889e+06</td>\n",
       "    </tr>\n",
       "    <tr>\n",
       "      <th>std</th>\n",
       "      <td>2.601282</td>\n",
       "      <td>32552.150467</td>\n",
       "      <td>60.265616</td>\n",
       "      <td>2.514798e+06</td>\n",
       "    </tr>\n",
       "    <tr>\n",
       "      <th>min</th>\n",
       "      <td>1.000000</td>\n",
       "      <td>1000.000000</td>\n",
       "      <td>5.000000</td>\n",
       "      <td>2.000000e+05</td>\n",
       "    </tr>\n",
       "    <tr>\n",
       "      <th>25%</th>\n",
       "      <td>3.250000</td>\n",
       "      <td>1800.000000</td>\n",
       "      <td>15.000000</td>\n",
       "      <td>3.500000e+05</td>\n",
       "    </tr>\n",
       "    <tr>\n",
       "      <th>50%</th>\n",
       "      <td>4.500000</td>\n",
       "      <td>2500.000000</td>\n",
       "      <td>25.000000</td>\n",
       "      <td>4.200000e+05</td>\n",
       "    </tr>\n",
       "    <tr>\n",
       "      <th>75%</th>\n",
       "      <td>6.750000</td>\n",
       "      <td>3500.000000</td>\n",
       "      <td>35.000000</td>\n",
       "      <td>7.000000e+05</td>\n",
       "    </tr>\n",
       "    <tr>\n",
       "      <th>max</th>\n",
       "      <td>9.000000</td>\n",
       "      <td>100000.000000</td>\n",
       "      <td>200.000000</td>\n",
       "      <td>8.000000e+06</td>\n",
       "    </tr>\n",
       "  </tbody>\n",
       "</table>\n",
       "</div>"
      ],
      "text/plain": [
       "        House_ID      Size_sqft   Age_years         Price\n",
       "count  10.000000       9.000000    9.000000  9.000000e+00\n",
       "mean    4.900000   13233.333333   42.777778  1.318889e+06\n",
       "std     2.601282   32552.150467   60.265616  2.514798e+06\n",
       "min     1.000000    1000.000000    5.000000  2.000000e+05\n",
       "25%     3.250000    1800.000000   15.000000  3.500000e+05\n",
       "50%     4.500000    2500.000000   25.000000  4.200000e+05\n",
       "75%     6.750000    3500.000000   35.000000  7.000000e+05\n",
       "max     9.000000  100000.000000  200.000000  8.000000e+06"
      ]
     },
     "execution_count": 4,
     "metadata": {},
     "output_type": "execute_result"
    }
   ],
   "source": [
    "df.describe()"
   ]
  },
  {
   "cell_type": "code",
   "execution_count": 5,
   "id": "5ea7aaac",
   "metadata": {},
   "outputs": [
    {
     "data": {
      "text/plain": [
       "House_ID     0\n",
       "Size_sqft    1\n",
       "Bedrooms     1\n",
       "Age_years    1\n",
       "Price        1\n",
       "dtype: int64"
      ]
     },
     "execution_count": 5,
     "metadata": {},
     "output_type": "execute_result"
    }
   ],
   "source": [
    "df.isnull().sum()"
   ]
  },
  {
   "cell_type": "code",
   "execution_count": 7,
   "id": "9214a6de",
   "metadata": {},
   "outputs": [
    {
     "data": {
      "text/html": [
       "<div>\n",
       "<style scoped>\n",
       "    .dataframe tbody tr th:only-of-type {\n",
       "        vertical-align: middle;\n",
       "    }\n",
       "\n",
       "    .dataframe tbody tr th {\n",
       "        vertical-align: top;\n",
       "    }\n",
       "\n",
       "    .dataframe thead th {\n",
       "        text-align: right;\n",
       "    }\n",
       "</style>\n",
       "<table border=\"1\" class=\"dataframe\">\n",
       "  <thead>\n",
       "    <tr style=\"text-align: right;\">\n",
       "      <th></th>\n",
       "      <th>House_ID</th>\n",
       "      <th>Size_sqft</th>\n",
       "      <th>Bedrooms</th>\n",
       "      <th>Age_years</th>\n",
       "      <th>Price</th>\n",
       "    </tr>\n",
       "  </thead>\n",
       "  <tbody>\n",
       "    <tr>\n",
       "      <th>0</th>\n",
       "      <td>1</td>\n",
       "      <td>1000.0</td>\n",
       "      <td>2</td>\n",
       "      <td>5.0</td>\n",
       "      <td>200000.0</td>\n",
       "    </tr>\n",
       "    <tr>\n",
       "      <th>1</th>\n",
       "      <td>2</td>\n",
       "      <td>1500.0</td>\n",
       "      <td>3</td>\n",
       "      <td>10.0</td>\n",
       "      <td>300000.0</td>\n",
       "    </tr>\n",
       "    <tr>\n",
       "      <th>2</th>\n",
       "      <td>3</td>\n",
       "      <td>NaN</td>\n",
       "      <td>3</td>\n",
       "      <td>15.0</td>\n",
       "      <td>350000.0</td>\n",
       "    </tr>\n",
       "    <tr>\n",
       "      <th>3</th>\n",
       "      <td>4</td>\n",
       "      <td>1800.0</td>\n",
       "      <td>NaN</td>\n",
       "      <td>20.0</td>\n",
       "      <td>400000.0</td>\n",
       "    </tr>\n",
       "    <tr>\n",
       "      <th>4</th>\n",
       "      <td>4</td>\n",
       "      <td>1800.0</td>\n",
       "      <td>4</td>\n",
       "      <td>25.0</td>\n",
       "      <td>420000.0</td>\n",
       "    </tr>\n",
       "    <tr>\n",
       "      <th>5</th>\n",
       "      <td>5</td>\n",
       "      <td>2500.0</td>\n",
       "      <td>5</td>\n",
       "      <td>30.0</td>\n",
       "      <td>NaN</td>\n",
       "    </tr>\n",
       "    <tr>\n",
       "      <th>6</th>\n",
       "      <td>6</td>\n",
       "      <td>3000.0</td>\n",
       "      <td>four</td>\n",
       "      <td>35.0</td>\n",
       "      <td>600000.0</td>\n",
       "    </tr>\n",
       "    <tr>\n",
       "      <th>7</th>\n",
       "      <td>7</td>\n",
       "      <td>3500.0</td>\n",
       "      <td>6</td>\n",
       "      <td>NaN</td>\n",
       "      <td>700000.0</td>\n",
       "    </tr>\n",
       "    <tr>\n",
       "      <th>8</th>\n",
       "      <td>8</td>\n",
       "      <td>100000.0</td>\n",
       "      <td>7</td>\n",
       "      <td>200.0</td>\n",
       "      <td>8000000.0</td>\n",
       "    </tr>\n",
       "    <tr>\n",
       "      <th>9</th>\n",
       "      <td>9</td>\n",
       "      <td>4000.0</td>\n",
       "      <td>8</td>\n",
       "      <td>45.0</td>\n",
       "      <td>900000.0</td>\n",
       "    </tr>\n",
       "  </tbody>\n",
       "</table>\n",
       "</div>"
      ],
      "text/plain": [
       "   House_ID  Size_sqft Bedrooms  Age_years      Price\n",
       "0         1     1000.0        2        5.0   200000.0\n",
       "1         2     1500.0        3       10.0   300000.0\n",
       "2         3        NaN        3       15.0   350000.0\n",
       "3         4     1800.0      NaN       20.0   400000.0\n",
       "4         4     1800.0        4       25.0   420000.0\n",
       "5         5     2500.0        5       30.0        NaN\n",
       "6         6     3000.0     four       35.0   600000.0\n",
       "7         7     3500.0        6        NaN   700000.0\n",
       "8         8   100000.0        7      200.0  8000000.0\n",
       "9         9     4000.0        8       45.0   900000.0"
      ]
     },
     "execution_count": 7,
     "metadata": {},
     "output_type": "execute_result"
    }
   ],
   "source": [
    "df=df.drop_duplicates()\n",
    "df"
   ]
  },
  {
   "cell_type": "code",
   "execution_count": 9,
   "id": "7bbd5941",
   "metadata": {},
   "outputs": [],
   "source": [
    "df[\"Bedrooms\"]=pd.to_numeric(df[\"Bedrooms\"],errors=\"coerce\")\n"
   ]
  },
  {
   "cell_type": "code",
   "execution_count": 10,
   "id": "f7a3d004",
   "metadata": {},
   "outputs": [],
   "source": [
    "df[\"Size_sqft\"]=df[\"Size_sqft\"].fillna(df[\"Size_sqft\"].median())"
   ]
  },
  {
   "cell_type": "code",
   "execution_count": 11,
   "id": "a5a11b9e",
   "metadata": {},
   "outputs": [],
   "source": [
    "Q1=df[\"Price\"].quantile(0.25)\n",
    "Q3=df[\"Price\"].quantile(0.75)\n",
    "IQR=Q3-Q1\n",
    "df = df[(df[\"Price\"] >= Q1 - 1.5*IQR) & (df[\"Price\"] <= Q3 + 1.5*IQR)]"
   ]
  },
  {
   "cell_type": "code",
   "execution_count": 13,
   "id": "c71c70c3",
   "metadata": {},
   "outputs": [
    {
     "ename": "NameError",
     "evalue": "name 'sns' is not defined",
     "output_type": "error",
     "traceback": [
      "\u001b[1;31m---------------------------------------------------------------------------\u001b[0m",
      "\u001b[1;31mNameError\u001b[0m                                 Traceback (most recent call last)",
      "Cell \u001b[1;32mIn[13], line 1\u001b[0m\n\u001b[1;32m----> 1\u001b[0m \u001b[43msns\u001b[49m\u001b[38;5;241m.\u001b[39mheatmap(df\u001b[38;5;241m.\u001b[39mcorr(),annot\u001b[38;5;241m=\u001b[39m\u001b[38;5;28;01mTrue\u001b[39;00m,cmap\u001b[38;5;241m=\u001b[39m\u001b[38;5;124m\"\u001b[39m\u001b[38;5;124mcoolwarm\u001b[39m\u001b[38;5;124m\"\u001b[39m)\n\u001b[0;32m      2\u001b[0m plt\u001b[38;5;241m.\u001b[39mshow()\n",
      "\u001b[1;31mNameError\u001b[0m: name 'sns' is not defined"
     ]
    }
   ],
   "source": [
    "sns.heatmap(df.corr(),annot=True,cmap=\"coolwarm\")\n",
    "plt.show()"
   ]
  },
  {
   "cell_type": "code",
   "execution_count": null,
   "id": "9f7731d6",
   "metadata": {},
   "outputs": [],
   "source": []
  }
 ],
 "metadata": {
  "kernelspec": {
   "display_name": "Python 3",
   "language": "python",
   "name": "python3"
  },
  "language_info": {
   "codemirror_mode": {
    "name": "ipython",
    "version": 3
   },
   "file_extension": ".py",
   "mimetype": "text/x-python",
   "name": "python",
   "nbconvert_exporter": "python",
   "pygments_lexer": "ipython3",
   "version": "3.13.1"
  }
 },
 "nbformat": 4,
 "nbformat_minor": 5
}
